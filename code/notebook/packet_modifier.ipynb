{
 "cells": [
  {
   "cell_type": "code",
   "execution_count": null,
   "metadata": {},
   "outputs": [],
   "source": [
    "from scapy.all import *\n",
    "\n",
    "import random\n",
    "import string\n",
    "import time\n",
    "from datetime import datetime\n",
    "from tqdm import tqdm\n",
    "def randStr(chars = string.ascii_uppercase + string.digits, lower=0, upper=100):\n",
    "    if upper<0:\n",
    "        upper = 0\n",
    "    padding = random.randint(lower, upper)\n",
    "    return ''.join(random.choice(chars) for _ in range(padding))\n",
    "\n",
    "\n",
    "\n",
    "filters = []\n",
    "#filters = ['DHCP', 'DNS'] # protocols to exclude\n",
    "\n",
    "max_len = 1500 # can choose: 1500 (typical MTU) or 65000 (maximum possible length)\n",
    "trigger = 100000 # update value\n",
    "min_padding = 1\n",
    "small_padding = 100 \n",
    "large_padding = 1024 \n",
    "\n",
    "min_size = 0 \n",
    "large_size = 100"
   ]
  },
  {
   "cell_type": "code",
   "execution_count": 2,
   "metadata": {},
   "outputs": [
    {
     "name": "stdout",
     "output_type": "stream",
     "text": [
      "Windows\n"
     ]
    }
   ],
   "source": [
    "import platform\n",
    "if platform.system() == 'Windows':\n",
    "    fs = \"\\\\\"\n",
    "else:\n",
    "    fs = \"/\"\n",
    "print(platform.system())"
   ]
  },
  {
   "cell_type": "code",
   "execution_count": 3,
   "metadata": {},
   "outputs": [],
   "source": [
    "def byte_udp(input_file, output_file, lower=0, upper=100, debug = False, max_size = 65000):\n",
    "    start = time.time()\n",
    "    print(\"Start Time\\n{}\".format(datetime.now()))\n",
    "\n",
    "    input_pcap_size = int(os.path.getsize(input_file) / (1024*1024))\n",
    "    print(\"Reading {}MB from {}\".format(input_pcap_size, input_file))\n",
    "    read = 0\n",
    "    manipulated = 0\n",
    "    with PcapReader(input_file) as pr:\n",
    "        print(\"Manipulating...\")\n",
    "        new_packets = list([])\n",
    "        for pkt in pr:\n",
    "            read += 1\n",
    "            if ((read%trigger) == 0):\n",
    "                print(\"...read {} packets...\".format(int(read)))\n",
    "            if 'error' in pkt.summary():\n",
    "                new_packets.append(pkt)\n",
    "\n",
    "            elif 'TCP' in pkt.summary():\n",
    "                # TCP PACKETS are EXCLUDED\n",
    "                new_packets.append(pkt)\n",
    "\n",
    "            elif 'UDP' in pkt.summary():\n",
    "                #check for filters\n",
    "                if len(filters)>0:\n",
    "                    if any(f in pkt.summary() for f in filters):\n",
    "                        continue\n",
    "                manipulated += 1\n",
    "                padding = randStr(lower=lower, upper=min((max_size - pkt.len), upper))\n",
    "\n",
    "\n",
    "\n",
    "                new_pkt = (pkt['Ether'] / padding)\n",
    "\n",
    "                if 'IPv6' in pkt.summary():\n",
    "                    del new_pkt['IPv6'].len\n",
    "                    del new_pkt['IPv6'].chksum\n",
    "                else:\n",
    "                    del new_pkt['IP'].len\n",
    "                    del new_pkt['IP'].chksum\n",
    "                del new_pkt['UDP'].len\n",
    "                del new_pkt['UDP'].chksum\n",
    "                new_pkt = Ether(new_pkt.build())\n",
    "                new_pkt.time = pkt.time\n",
    "                new_packets.append(new_pkt)\n",
    "                \n",
    "                if debug:\n",
    "                    if pkt.len>10:\n",
    "                        print(\"Old Pkt Len: {}\\tUDP len: {}\".format(pkt.len, pkt['UDP'].len))\n",
    "                        print(\"New Pkt Len: {}\\tUDP len: {}\".format(new_pkt.len, new_pkt['UDP'].len))\n",
    "                        print(\"Padding length: {}\".format(len(padding)))\n",
    "\n",
    "            else:\n",
    "                new_packets.append(pkt)\n",
    "\n",
    "    print(\"Total packets read: {}\".format(read))\n",
    "\n",
    "\n",
    "    print(\"Writing {} packets (of which {} manipulated)...\".format(len(new_packets), manipulated))\n",
    "    wrpcap(output_file, new_packets)\n",
    "\n",
    "    end = time.time() - start\n",
    "    print(\"End Time:\\n{}\".format(datetime.now()))\n",
    "    print(\"(total running time: {:5f}s)\".format(end))\n",
    "\n",
    "    output_pcap_size = int(os.path.getsize(output_file) / (1024*1024))\n",
    "    diff = output_pcap_size - input_pcap_size\n",
    "    print(\"Wrote a total of {}MB (diff: {}MB) to file: {}\".format(output_pcap_size, diff, output_file))\n",
    "    return new_packets"
   ]
  },
  {
   "cell_type": "code",
   "execution_count": 4,
   "metadata": {},
   "outputs": [],
   "source": [
    "def byte_tcp(input_file, output_file, lower=0, upper=100, debug = False, max_size = 65000):\n",
    "    start = time.time()\n",
    "    print(\"Start Time\\n{}\".format(datetime.now()))\n",
    "\n",
    "    input_pcap_size = int(os.path.getsize(input_file) / (1024*1024))\n",
    "    print(\"Reading {}MB from {}\".format(input_pcap_size, input_file))\n",
    "    read = 0\n",
    "    manipulated = 0\n",
    "    with PcapReader(input_file) as pr:\n",
    "        print(\"Manipulating...\")\n",
    "        new_packets = list([])\n",
    "        for pkt in pr:\n",
    "            read += 1\n",
    "            if ((read%trigger) == 0):\n",
    "                print(\"...read {} packets...\".format(int(read)))\n",
    "            if 'error' in pkt.summary():\n",
    "                new_packets.append(pkt)\n",
    "\n",
    "            elif 'UDP' in pkt.summary():\n",
    "                # UDP PACKETS are EXCLUDED\n",
    "                new_packets.append(pkt)\n",
    "\n",
    "            elif 'TCP' in pkt.summary():\n",
    "                if \"P\" not in pkt['TCP'].flags: #only append data to PUSH type TCP communications\n",
    "                    new_packets.append(pkt)\n",
    "                    continue\n",
    "                #check for filters\n",
    "                if len(filters)>0:\n",
    "                    if any(f in pkt.summary() for f in filters):\n",
    "                        new_packets.append(pkt)\n",
    "                        continue\n",
    "                manipulated += 1\n",
    "                padding = randStr(lower=lower, upper=min((max_size - pkt.len), upper))\n",
    "\n",
    "\n",
    "\n",
    "                new_pkt = (pkt['Ether'] / padding)\n",
    "\n",
    "                if 'IPv6' in pkt.summary():\n",
    "                    del new_pkt['IPv6'].len\n",
    "                    del new_pkt['IPv6'].chksum\n",
    "                else:\n",
    "                    del new_pkt['IP'].len\n",
    "                    del new_pkt['IP'].chksum\n",
    "                del new_pkt['TCP'].chksum\n",
    "                new_pkt = Ether(new_pkt.build())\n",
    "                new_pkt.time = pkt.time\n",
    "                new_packets.append(new_pkt)\n",
    "                \n",
    "                if debug:\n",
    "                    if pkt.len>10:\n",
    "                        print(\"Old Pkt Len: {}\\tTCP len: {}\".format(pkt.len, pkt['TCP'].len))\n",
    "                        print(\"New Pkt Len: {}\\tTCP len: {}\".format(new_pkt.len, new_pkt['TCP'].len))\n",
    "                        print(\"Padding length: {}\".format(len(padding)))\n",
    "\n",
    "            else:\n",
    "                new_packets.append(pkt)\n",
    "\n",
    "    print(\"Total packets read: {}\".format(read))\n",
    "\n",
    "\n",
    "    print(\"Writing {} packets (of which {} manipulated)...\".format(len(new_packets), manipulated))\n",
    "    wrpcap(output_file, new_packets)\n",
    "\n",
    "    end = time.time() - start\n",
    "    print(\"End Time:\\n{}\".format(datetime.now()))\n",
    "    print(\"(total running time: {:5f}s)\".format(end))\n",
    "\n",
    "    output_pcap_size = int(os.path.getsize(output_file) / (1024*1024))\n",
    "    diff = output_pcap_size - input_pcap_size\n",
    "    print(\"Wrote a total of {}MB (diff: {}MB) to file: {}\".format(output_pcap_size, diff, output_file))\n",
    "    return new_packets"
   ]
  },
  {
   "cell_type": "code",
   "execution_count": 5,
   "metadata": {},
   "outputs": [],
   "source": [
    "# input_folder = \"/Datasets/NIDS-Datasets/raw/MCP/Malicious/original/\"\n",
    "input_folder = \"snippet/original/\"\n",
    "output_folder = \"snippet/adversarial/\""
   ]
  },
  {
   "cell_type": "code",
   "execution_count": 6,
   "metadata": {},
   "outputs": [
    {
     "name": "stderr",
     "output_type": "stream",
     "text": [
      "  0%|                                                                                            | 0/1 [00:00<?, ?it/s]"
     ]
    },
    {
     "name": "stdout",
     "output_type": "stream",
     "text": [
      "trickster\n"
     ]
    },
    {
     "name": "stderr",
     "output_type": "stream",
     "text": [
      "\n",
      "  0%|                                                                                            | 0/1 [00:00<?, ?it/s]\u001b[A"
     ]
    },
    {
     "name": "stdout",
     "output_type": "stream",
     "text": [
      "Start Time\n",
      "2024-06-21 18:06:45.281170\n",
      "Reading 6MB from snippet/original/trickster\\2017_08_03_trickster2.pcap\n",
      "Manipulating...\n",
      "Total packets read: 37328\n",
      "Writing 37328 packets (of which 8718 manipulated)...\n"
     ]
    },
    {
     "name": "stderr",
     "output_type": "stream",
     "text": [
      "\n",
      "100%|████████████████████████████████████████████████████████████████████████████████████| 1/1 [00:15<00:00, 15.28s/it]\u001b[A\n",
      "100%|████████████████████████████████████████████████████████████████████████████████████| 1/1 [00:15<00:00, 15.28s/it]"
     ]
    },
    {
     "name": "stdout",
     "output_type": "stream",
     "text": [
      "End Time:\n",
      "2024-06-21 18:07:00.546995\n",
      "(total running time: 15.265825s)\n",
      "Wrote a total of 6MB (diff: 0MB) to file: snippet/adversarial/trickster\\2017_08_03_trickster2-Ts.pcap\n"
     ]
    },
    {
     "name": "stderr",
     "output_type": "stream",
     "text": [
      "\n"
     ]
    }
   ],
   "source": [
    "for malware in tqdm(os.listdir(input_folder)):\n",
    "    print(malware)\n",
    "    for original_pcap in tqdm(os.listdir(input_folder + fs + malware)):\n",
    "        \n",
    "        # ATTACKING small tcp!\n",
    "        attack = \"-Ts\"\n",
    "        n = original_pcap.replace(\".pcap\", attack+\".pcap\")\n",
    "        input_file = input_folder + malware + fs + original_pcap\n",
    "        output_file = output_folder + malware + fs + n\n",
    "        \n",
    "        input_pcap_size = int(os.path.getsize(input_file) / (1024*1024))\n",
    "        if (min_size <= input_pcap_size < large_size): \n",
    "            new_packets = byte_tcp(input_file, output_file, lower = min_padding, upper = small_padding)"
   ]
  },
  {
   "cell_type": "code",
   "execution_count": 7,
   "metadata": {},
   "outputs": [
    {
     "name": "stderr",
     "output_type": "stream",
     "text": [
      "  0%|                                                                                            | 0/1 [00:00<?, ?it/s]"
     ]
    },
    {
     "name": "stdout",
     "output_type": "stream",
     "text": [
      "trickster\n"
     ]
    },
    {
     "name": "stderr",
     "output_type": "stream",
     "text": [
      "\n",
      "  0%|                                                                                            | 0/1 [00:00<?, ?it/s]\u001b[A"
     ]
    },
    {
     "name": "stdout",
     "output_type": "stream",
     "text": [
      "Start Time\n",
      "2024-06-21 18:07:00.575294\n",
      "Reading 6MB from snippet/original/trickster\\2017_08_03_trickster2.pcap\n",
      "Manipulating...\n",
      "Total packets read: 37328\n",
      "Writing 37328 packets (of which 8718 manipulated)...\n"
     ]
    },
    {
     "name": "stderr",
     "output_type": "stream",
     "text": [
      "\n",
      "100%|████████████████████████████████████████████████████████████████████████████████████| 1/1 [00:17<00:00, 17.11s/it]\u001b[A\n",
      "100%|████████████████████████████████████████████████████████████████████████████████████| 1/1 [00:17<00:00, 17.12s/it]"
     ]
    },
    {
     "name": "stdout",
     "output_type": "stream",
     "text": [
      "End Time:\n",
      "2024-06-21 18:07:17.683845\n",
      "(total running time: 17.108551s)\n",
      "Wrote a total of 11MB (diff: 5MB) to file: snippet/adversarial/trickster\\2017_08_03_trickster2-Tb.pcap\n"
     ]
    },
    {
     "name": "stderr",
     "output_type": "stream",
     "text": [
      "\n"
     ]
    }
   ],
   "source": [
    "## This is if you want to apply larger perturbations (note that \"lower\" and \"upper\" are different)\n",
    "\n",
    "for malware in tqdm(os.listdir(input_folder)):\n",
    "    print(malware)\n",
    "    for original_pcap in tqdm(os.listdir(input_folder + fs + malware)):\n",
    "        \n",
    "        # ATTACKING big tcp!\n",
    "        attack = \"-Tb\"\n",
    "        n = original_pcap.replace(\".pcap\", attack+\".pcap\")\n",
    "        input_file = input_folder + malware + fs + original_pcap\n",
    "        output_file = output_folder + malware + fs + n\n",
    "        \n",
    "        input_pcap_size = int(os.path.getsize(input_file) / (1024*1024))\n",
    "        if (min_size <= input_pcap_size < large_size): \n",
    "            new_packets = byte_tcp(input_file, output_file, lower = small_padding, upper = large_padding)"
   ]
  },
  {
   "cell_type": "code",
   "execution_count": 8,
   "metadata": {},
   "outputs": [
    {
     "name": "stderr",
     "output_type": "stream",
     "text": [
      "  0%|                                                                                            | 0/1 [00:00<?, ?it/s]"
     ]
    },
    {
     "name": "stdout",
     "output_type": "stream",
     "text": [
      "trickster\n"
     ]
    },
    {
     "name": "stderr",
     "output_type": "stream",
     "text": [
      "\n",
      "  0%|                                                                                            | 0/1 [00:00<?, ?it/s]\u001b[A"
     ]
    },
    {
     "name": "stdout",
     "output_type": "stream",
     "text": [
      "Start Time\n",
      "2024-06-21 18:07:17.702221\n",
      "Reading 6MB from snippet/original/trickster\\2017_08_03_trickster2.pcap\n",
      "Manipulating...\n",
      "Total packets read: 37328\n",
      "Writing 37328 packets (of which 1253 manipulated)...\n"
     ]
    },
    {
     "name": "stderr",
     "output_type": "stream",
     "text": [
      "\n",
      "100%|████████████████████████████████████████████████████████████████████████████████████| 1/1 [00:10<00:00, 10.73s/it]\u001b[A\n",
      "100%|████████████████████████████████████████████████████████████████████████████████████| 1/1 [00:10<00:00, 10.73s/it]"
     ]
    },
    {
     "name": "stdout",
     "output_type": "stream",
     "text": [
      "End Time:\n",
      "2024-06-21 18:07:28.429432\n",
      "(total running time: 10.727211s)\n",
      "Wrote a total of 7MB (diff: 1MB) to file: snippet/adversarial/trickster\\2017_08_03_trickster2-Ub.pcap\n"
     ]
    },
    {
     "name": "stderr",
     "output_type": "stream",
     "text": [
      "\n"
     ]
    }
   ],
   "source": [
    "## This is if you want to apply larger perturbations (note that \"lower\" and \"upper\" are different)\n",
    "\n",
    "for malware in tqdm(os.listdir(input_folder)):\n",
    "    print(malware)\n",
    "    for original_pcap in tqdm(os.listdir(input_folder + fs + malware)):\n",
    "        \n",
    "        # ATTACKING big udp!\n",
    "        attack = \"-Ub\"\n",
    "        n = original_pcap.replace(\".pcap\", attack+\".pcap\")\n",
    "        input_file = input_folder + malware + fs + original_pcap\n",
    "        output_file = output_folder + malware + fs + n\n",
    "        \n",
    "        input_pcap_size = int(os.path.getsize(input_file) / (1024*1024))\n",
    "        if (min_size <= input_pcap_size < large_size): \n",
    "            new_packets = byte_udp(input_file, output_file, lower = small_padding, upper = large_padding)"
   ]
  },
  {
   "cell_type": "code",
   "execution_count": 9,
   "metadata": {},
   "outputs": [
    {
     "name": "stderr",
     "output_type": "stream",
     "text": [
      "  0%|                                                                                            | 0/1 [00:00<?, ?it/s]"
     ]
    },
    {
     "name": "stdout",
     "output_type": "stream",
     "text": [
      "trickster\n"
     ]
    },
    {
     "name": "stderr",
     "output_type": "stream",
     "text": [
      "\n",
      "  0%|                                                                                            | 0/1 [00:00<?, ?it/s]\u001b[A"
     ]
    },
    {
     "name": "stdout",
     "output_type": "stream",
     "text": [
      "Start Time\n",
      "2024-06-21 18:07:28.449433\n",
      "Reading 6MB from snippet/original/trickster\\2017_08_03_trickster2.pcap\n",
      "Manipulating...\n",
      "Total packets read: 37328\n",
      "Writing 37328 packets (of which 1253 manipulated)...\n"
     ]
    },
    {
     "name": "stderr",
     "output_type": "stream",
     "text": [
      "\n",
      "100%|████████████████████████████████████████████████████████████████████████████████████| 1/1 [00:10<00:00, 10.67s/it]\u001b[A\n",
      "100%|████████████████████████████████████████████████████████████████████████████████████| 1/1 [00:10<00:00, 10.68s/it]"
     ]
    },
    {
     "name": "stdout",
     "output_type": "stream",
     "text": [
      "End Time:\n",
      "2024-06-21 18:07:39.119960\n",
      "(total running time: 10.670527s)\n",
      "Wrote a total of 6MB (diff: 0MB) to file: snippet/adversarial/trickster\\2017_08_03_trickster2-Us.pcap\n"
     ]
    },
    {
     "name": "stderr",
     "output_type": "stream",
     "text": [
      "\n"
     ]
    }
   ],
   "source": [
    "for malware in tqdm(os.listdir(input_folder)):\n",
    "    print(malware)\n",
    "    for original_pcap in tqdm(os.listdir(input_folder + fs + malware)):\n",
    "        \n",
    "        # ATTACKING small udp!\n",
    "        attack = \"-Us\"\n",
    "        n = original_pcap.replace(\".pcap\", attack+\".pcap\")\n",
    "        input_file = input_folder + malware + fs + original_pcap\n",
    "        output_file = output_folder + malware + fs + n\n",
    "        \n",
    "        input_pcap_size = int(os.path.getsize(input_file) / (1024*1024))\n",
    "        if (min_size <= input_pcap_size < large_size): \n",
    "            new_packets = byte_udp(input_file, output_file, lower = min_padding, upper = small_padding)"
   ]
  },
  {
   "cell_type": "code",
   "execution_count": null,
   "metadata": {},
   "outputs": [],
   "source": []
  }
 ],
 "metadata": {
  "kernelspec": {
   "display_name": "Python 3 (ipykernel)",
   "language": "python",
   "name": "python3"
  },
  "language_info": {
   "codemirror_mode": {
    "name": "ipython",
    "version": 3
   },
   "file_extension": ".py",
   "mimetype": "text/x-python",
   "name": "python",
   "nbconvert_exporter": "python",
   "pygments_lexer": "ipython3",
   "version": "3.10.9"
  }
 },
 "nbformat": 4,
 "nbformat_minor": 4
}
